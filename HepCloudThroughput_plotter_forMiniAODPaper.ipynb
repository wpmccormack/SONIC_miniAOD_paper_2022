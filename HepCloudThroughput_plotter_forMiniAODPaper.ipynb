{
 "cells": [
  {
   "cell_type": "code",
   "execution_count": 1,
   "id": "c8efc299",
   "metadata": {},
   "outputs": [],
   "source": [
    "import matplotlib.pyplot as plt"
   ]
  },
  {
   "cell_type": "code",
   "execution_count": 2,
   "id": "312df64a",
   "metadata": {},
   "outputs": [],
   "source": [
    "import numpy as np"
   ]
  },
  {
   "cell_type": "code",
   "execution_count": 3,
   "id": "beef8e2d",
   "metadata": {},
   "outputs": [
    {
     "name": "stdout",
     "output_type": "stream",
     "text": [
      "Welcome to JupyROOT 6.26/06\n"
     ]
    }
   ],
   "source": [
    "import ROOT as rt\n",
    "\n",
    "def tdrGrid( gridOn):\n",
    "    tdrStyle.SetPadGridX(gridOn)\n",
    "    tdrStyle.SetPadGridY(gridOn)\n",
    "\n",
    "#fixOverlay: Redraws the axis\n",
    "def fixOverlay():\n",
    "    gPad.RedrawAxis()\n",
    "\n",
    "def setTDRStyle():\n",
    "    tdrStyle =  rt.TStyle(\"tdrStyle\",\"Style for P-TDR\")\n",
    "\n",
    "    #for the canvas:\n",
    "    tdrStyle.SetCanvasBorderMode(0)\n",
    "    tdrStyle.SetCanvasColor(rt.kWhite)\n",
    "    tdrStyle.SetCanvasDefH(600) #Height of canvas\n",
    "    tdrStyle.SetCanvasDefW(600) #Width of canvas\n",
    "    tdrStyle.SetCanvasDefX(0)   #POsition on screen\n",
    "    tdrStyle.SetCanvasDefY(0)\n",
    "    \n",
    "    tdrStyle.SetPadBorderMode(0)\n",
    "    #tdrStyle.SetPadBorderSize(Width_t size = 1)\n",
    "    tdrStyle.SetPadColor(rt.kWhite)\n",
    "    tdrStyle.SetPadGridX(False)\n",
    "    tdrStyle.SetPadGridY(False)\n",
    "    tdrStyle.SetGridColor(0)\n",
    "    tdrStyle.SetGridStyle(3)\n",
    "    tdrStyle.SetGridWidth(1)\n",
    "    \n",
    "    #For the frame:\n",
    "    tdrStyle.SetFrameBorderMode(0)\n",
    "    tdrStyle.SetFrameBorderSize(1)\n",
    "    tdrStyle.SetFrameFillColor(0)\n",
    "    tdrStyle.SetFrameFillStyle(0)\n",
    "    tdrStyle.SetFrameLineColor(1)\n",
    "    tdrStyle.SetFrameLineStyle(1)\n",
    "    tdrStyle.SetFrameLineWidth(1)\n",
    "  \n",
    "    #For the histo:\n",
    "    #tdrStyle.SetHistFillColor(1)\n",
    "    #tdrStyle.SetHistFillStyle(0)\n",
    "    tdrStyle.SetHistLineColor(1)\n",
    "    tdrStyle.SetHistLineStyle(0)\n",
    "    tdrStyle.SetHistLineWidth(1)\n",
    "    #tdrStyle.SetLegoInnerR(Float_t rad = 0.5)\n",
    "    #tdrStyle.SetNumberContours(Int_t number = 20)\n",
    "    \n",
    "    tdrStyle.SetEndErrorSize(2)\n",
    "    #tdrStyle.SetErrorMarker(20)\n",
    "    #tdrStyle.SetErrorX(0.)\n",
    "    \n",
    "    tdrStyle.SetMarkerStyle(20)\n",
    "    \n",
    "    #For the fit/function:\n",
    "    tdrStyle.SetOptFit(1)\n",
    "    tdrStyle.SetFitFormat(\"5.4g\")\n",
    "    tdrStyle.SetFuncColor(2)\n",
    "    tdrStyle.SetFuncStyle(1)\n",
    "    tdrStyle.SetFuncWidth(1)\n",
    "    \n",
    "    #For the date:\n",
    "    tdrStyle.SetOptDate(0)\n",
    "    # tdrStyle.SetDateX(Float_t x = 0.01)\n",
    "    # tdrStyle.SetDateY(Float_t y = 0.01)\n",
    "    \n",
    "    # For the statistics box:\n",
    "    tdrStyle.SetOptFile(0)\n",
    "    tdrStyle.SetOptStat(0) # To display the mean and RMS:   SetOptStat(\"mr\")\n",
    "    tdrStyle.SetStatColor(rt.kWhite)\n",
    "    tdrStyle.SetStatFont(42)\n",
    "    tdrStyle.SetStatFontSize(0.025)\n",
    "    tdrStyle.SetStatTextColor(1)\n",
    "    tdrStyle.SetStatFormat(\"6.4g\")\n",
    "    tdrStyle.SetStatBorderSize(1)\n",
    "    tdrStyle.SetStatH(0.1)\n",
    "    tdrStyle.SetStatW(0.15)\n",
    "    # tdrStyle.SetStatStyle(Style_t style = 1001)\n",
    "    # tdrStyle.SetStatX(Float_t x = 0)\n",
    "    # tdrStyle.SetStatY(Float_t y = 0)\n",
    "\n",
    "    # Margins:\n",
    "    tdrStyle.SetPadTopMargin(0.05)\n",
    "    tdrStyle.SetPadBottomMargin(0.13)\n",
    "    tdrStyle.SetPadLeftMargin(0.16)\n",
    "    tdrStyle.SetPadRightMargin(0.02)\n",
    "    \n",
    "    # For the Global title:\n",
    "\n",
    "    tdrStyle.SetOptTitle(0)\n",
    "    tdrStyle.SetTitleFont(42)\n",
    "    tdrStyle.SetTitleColor(1)\n",
    "    tdrStyle.SetTitleTextColor(1)\n",
    "    tdrStyle.SetTitleFillColor(10)\n",
    "    tdrStyle.SetTitleFontSize(0.05)\n",
    "    # tdrStyle.SetTitleH(0) # Set the height of the title box\n",
    "    # tdrStyle.SetTitleW(0) # Set the width of the title box\n",
    "    # tdrStyle.SetTitleX(0) # Set the position of the title box\n",
    "    # tdrStyle.SetTitleY(0.985) # Set the position of the title box\n",
    "    # tdrStyle.SetTitleStyle(Style_t style = 1001)\n",
    "    # tdrStyle.SetTitleBorderSize(2)\n",
    "\n",
    "    # For the axis titles:\n",
    "\n",
    "    tdrStyle.SetTitleColor(1, \"XYZ\")\n",
    "    tdrStyle.SetTitleFont(42, \"XYZ\")\n",
    "    tdrStyle.SetTitleSize(0.06, \"XYZ\")\n",
    "    # tdrStyle.SetTitleXSize(Float_t size = 0.02) # Another way to set the size?\n",
    "    # tdrStyle.SetTitleYSize(Float_t size = 0.02)\n",
    "    tdrStyle.SetTitleXOffset(0.9)\n",
    "    tdrStyle.SetTitleYOffset(1.25)\n",
    "    # tdrStyle.SetTitleOffset(1.1, \"Y\") # Another way to set the Offset\n",
    "\n",
    "    # For the axis labels:\n",
    "\n",
    "    tdrStyle.SetLabelColor(1, \"XYZ\")\n",
    "    tdrStyle.SetLabelFont(42, \"XYZ\")\n",
    "    tdrStyle.SetLabelOffset(0.007, \"XYZ\")\n",
    "    tdrStyle.SetLabelSize(0.05, \"XYZ\")\n",
    "\n",
    "    # For the axis:\n",
    "\n",
    "    tdrStyle.SetAxisColor(1, \"XYZ\")\n",
    "    tdrStyle.SetStripDecimals(True)\n",
    "    tdrStyle.SetTickLength(0.03, \"XYZ\")\n",
    "    tdrStyle.SetNdivisions(510, \"XYZ\")\n",
    "    tdrStyle.SetPadTickX(1)  # To get tick marks on the opposite side of the frame\n",
    "    tdrStyle.SetPadTickY(1)\n",
    "\n",
    "    # Change for log plots:\n",
    "    tdrStyle.SetOptLogx(0)\n",
    "    tdrStyle.SetOptLogy(0)\n",
    "    tdrStyle.SetOptLogz(0)\n",
    "    \n",
    "    # Postscript options:\n",
    "    tdrStyle.SetPaperSize(20.,20.)\n",
    "    # tdrStyle.SetLineScalePS(Float_t scale = 3)\n",
    "    # tdrStyle.SetLineStyleString(Int_t i, const char* text)\n",
    "    # tdrStyle.SetHeaderPS(const char* header)\n",
    "    # tdrStyle.SetTitlePS(const char* pstitle)\n",
    "\n",
    "    # tdrStyle.SetBarOffset(Float_t baroff = 0.5)\n",
    "    # tdrStyle.SetBarWidth(Float_t barwidth = 0.5)\n",
    "    # tdrStyle.SetPaintTextFormat(const char* format = \"g\")\n",
    "    # tdrStyle.SetPalette(Int_t ncolors = 0, Int_t* colors = 0)\n",
    "    # tdrStyle.SetTimeOffset(Double_t toffset)\n",
    "    # tdrStyle.SetHistMinimumZero(kTRUE)\n",
    "\n",
    "    tdrStyle.SetHatchesLineWidth(5)\n",
    "    tdrStyle.SetHatchesSpacing(0.05)\n",
    "\n",
    "    tdrStyle.cd()"
   ]
  },
  {
   "cell_type": "code",
   "execution_count": 4,
   "id": "8199f997",
   "metadata": {},
   "outputs": [],
   "source": [
    "import CMS_lumi\n",
    "from array import array\n",
    "\n",
    "#set the tdr style\n",
    "setTDRStyle()"
   ]
  },
  {
   "cell_type": "code",
   "execution_count": 5,
   "id": "9cb51ad0",
   "metadata": {},
   "outputs": [],
   "source": [
    "#change the CMS_lumi variables (see CMS_lumi.py)\n",
    "CMS_lumi.lumi_7TeV = \"4.8 fb^{-1}\"\n",
    "CMS_lumi.lumi_8TeV = \"18.3 fb^{-1}\"\n",
    "CMS_lumi.writeExtraText = 1\n",
    "CMS_lumi.extraText = \"Simulation\"\n",
    "CMS_lumi.lumi_sqrtS = \"13 TeV\" # used with iPeriod = 0, e.g. for simulation-only plots (default is an empty string)\n",
    "#CMS_lumi.lumi_sqrtS = \"\"\n",
    "\n",
    "iPos = 11\n",
    "iPos = 0\n",
    "if( iPos==0 ): CMS_lumi.relPosX = 0.12"
   ]
  },
  {
   "cell_type": "code",
   "execution_count": 6,
   "id": "f9d26303",
   "metadata": {},
   "outputs": [],
   "source": [
    "H_ref = 600; \n",
    "W_ref = 800; \n",
    "W = W_ref\n",
    "H  = H_ref\n",
    "\n",
    "# \n",
    "# Simple example of macro: plot with CMS name and lumi text\n",
    "#  (this script does not pretend to work in all configurations)\n",
    "# iPeriod = 1*(0/1 7 TeV) + 2*(0/1 8 TeV)  + 4*(0/1 13 TeV) \n",
    "# For instance: \n",
    "#               iPeriod = 3 means: 7 TeV + 8 TeV\n",
    "#               iPeriod = 7 means: 7 TeV + 8 TeV + 13 TeV \n",
    "#               iPeriod = 0 means: free form (uses lumi_sqrtS)\n",
    "# Initiated by: Gautier Hamel de Monchenault (Saclay)\n",
    "# Translated in Python by: Joshua Hardenbrook (Princeton)\n",
    "# Updated by:   Dinko Ferencek (Rutgers)\n",
    "#\n",
    "\n",
    "iPeriod = 3\n",
    "\n",
    "# references for T, B, L, R\n",
    "T = 0.08*H_ref\n",
    "B = 0.15*H_ref \n",
    "L = 0.16*W_ref\n",
    "R = 0.04*W_ref\n",
    "\n",
    "canvas = rt.TCanvas(\"c2\",\"c2\",50,50,W,H)\n",
    "canvas.SetFillColor(0)\n",
    "canvas.SetBorderMode(0)\n",
    "canvas.SetFrameFillStyle(0)\n",
    "canvas.SetFrameBorderMode(0)\n",
    "canvas.SetLeftMargin( L/W )\n",
    "canvas.SetRightMargin( R/W )\n",
    "canvas.SetTopMargin( T/H )\n",
    "canvas.SetBottomMargin( B/H )\n",
    "canvas.SetTickx(1)\n",
    "canvas.SetTicky(1)"
   ]
  },
  {
   "cell_type": "code",
   "execution_count": 7,
   "id": "ad34a006",
   "metadata": {},
   "outputs": [],
   "source": [
    "def TimeAnaSONIC(filename, timesSONIC):\n",
    "    f = open(filename, 'r')\n",
    "    Lines = f.readlines()\n",
    "    t = []\n",
    "    nb = 0\n",
    "    for line in Lines:\n",
    "        try:\n",
    "            t.append(float(line))\n",
    "        except:\n",
    "            if('Traceback' in line):\n",
    "                nb+=1\n",
    "    timesSONIC.append(t)"
   ]
  },
  {
   "cell_type": "code",
   "execution_count": 8,
   "id": "62f8eb99",
   "metadata": {},
   "outputs": [],
   "source": [
    "timesSONIC = []\n",
    "\n",
    "TimeAnaSONIC('hepcloud_splitServer_Nov5/2500Synchro_Nov5_noCompress_preEmpt_v1.txt', timesSONIC)\n",
    "\n",
    "nfilesSONIC = len(timesSONIC)"
   ]
  },
  {
   "cell_type": "code",
   "execution_count": 9,
   "id": "6702da3e",
   "metadata": {},
   "outputs": [],
   "source": [
    "timeHist = rt.TH1F('times', 'times', 20, 3, 5)"
   ]
  },
  {
   "cell_type": "code",
   "execution_count": 10,
   "id": "4568bf4d",
   "metadata": {},
   "outputs": [
    {
     "name": "stdout",
     "output_type": "stream",
     "text": [
      "1\n"
     ]
    }
   ],
   "source": [
    "print(len(timesSONIC))\n",
    "for i in timesSONIC[0]:\n",
    "    #print(i)\n",
    "    timeHist.Fill(i)"
   ]
  },
  {
   "cell_type": "code",
   "execution_count": 11,
   "id": "eb2e3c31",
   "metadata": {},
   "outputs": [],
   "source": [
    "timeHist.Scale(1.0 / timeHist.Integral(0, timeHist.GetNbinsX() + 1))"
   ]
  },
  {
   "cell_type": "code",
   "execution_count": 12,
   "id": "4d8c4dea",
   "metadata": {},
   "outputs": [],
   "source": [
    "timeHist.SetMaximum(0.245)\n",
    "timeHist.SetLineColor(4)\n",
    "timeHist.GetXaxis().SetTitle( 'Throughput [evt/s]' )\n",
    "timeHist.GetYaxis().SetTitle( 'Fraction of Events' )\n",
    "timeHist.Draw(\"hist\")"
   ]
  },
  {
   "cell_type": "code",
   "execution_count": 13,
   "id": "13ea0c0b",
   "metadata": {},
   "outputs": [],
   "source": [
    "testLine = rt.TLine(3.55, 0, 3.55, 0.16)\n",
    "testLine.SetLineStyle(2)\n",
    "testLine.SetLineWidth(2)\n",
    "testLine.SetLineColor(2)\n",
    "testLine.Draw('same')"
   ]
  },
  {
   "cell_type": "code",
   "execution_count": 14,
   "id": "3999b7e4",
   "metadata": {},
   "outputs": [],
   "source": [
    "legend = rt.TLegend(0.40,0.70,0.94,0.85);\n",
    "#legend.SetHeader(\"The Legend Title\",\"C\"); // option \"C\" allows to center the header\n",
    "#legend.AddEntry(timeHist,\"#splitline{Throughput distribution of}{2455 jobs with SONIC}\",\"l\");\n",
    "legend.AddEntry(timeHist,\"SONIC Jobs\",\"l\");\n",
    "legend.AddEntry(testLine,'Average of ``Direct-inference\" Jobs',\"l\");\n",
    "#gStyle.SetLegendBorderSize(1);\n",
    "#gStyle.SetLegendFillColor(0);\n",
    "legend.SetTextFont(42);\n",
    "legend.SetTextSize(0.04);\n",
    "legend.Draw('same');"
   ]
  },
  {
   "cell_type": "code",
   "execution_count": 15,
   "id": "c0c80a0b",
   "metadata": {},
   "outputs": [
    {
     "name": "stdout",
     "output_type": "stream",
     "text": [
      "13 TeV\n"
     ]
    }
   ],
   "source": [
    "CMS_lumi.CMS_lumi( canvas, 0, iPos )"
   ]
  },
  {
   "cell_type": "code",
   "execution_count": 16,
   "id": "46f6435e",
   "metadata": {},
   "outputs": [
    {
     "data": {
      "image/png": "[encoded data removed]",
      "text/plain": [
       "<IPython.core.display.Image object>"
      ]
     },
     "metadata": {},
     "output_type": "display_data"
    }
   ],
   "source": [
    "canvas.Draw()"
   ]
  },
  {
   "cell_type": "code",
   "execution_count": 17,
   "id": "7272ccb1",
   "metadata": {},
   "outputs": [
    {
     "name": "stderr",
     "output_type": "stream",
     "text": [
      "Info in <TCanvas::Print>: pdf file scale_out_test_reformat.pdf has been created\n"
     ]
    }
   ],
   "source": [
    "canvas.SaveAs('scale_out_test_reformat.pdf')"
   ]
  },
  {
   "cell_type": "code",
   "execution_count": null,
   "id": "bac6cb7d",
   "metadata": {},
   "outputs": [],
   "source": []
  },
  {
   "cell_type": "code",
   "execution_count": null,
   "id": "ba25f2f8",
   "metadata": {},
   "outputs": [],
   "source": []
  }
 ],
 "metadata": {
  "kernelspec": {
   "display_name": "Python 3 (ipykernel)",
   "language": "python",
   "name": "python3"
  },
  "language_info": {
   "codemirror_mode": {
    "name": "ipython",
    "version": 3
   },
   "file_extension": ".py",
   "mimetype": "text/x-python",
   "name": "python",
   "nbconvert_exporter": "python",
   "pygments_lexer": "ipython3",
   "version": "3.10.9"
  }
 },
 "nbformat": 4,
 "nbformat_minor": 5
}
